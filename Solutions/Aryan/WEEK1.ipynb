{
  "cells": [
    {
      "metadata": {
        "trusted": true
      },
      "cell_type": "code",
      "source": "def map1(x):\n    l=[]\n    for i in x:\n        l.append(int(i))\n    return l\n\nl=['1','2','3']\n\nprint(map1(l))",
      "execution_count": 2,
      "outputs": [
        {
          "output_type": "stream",
          "name": "stdout",
          "text": "1\n[1, 2, 3]\n"
        }
      ]
    },
    {
      "metadata": {
        "trusted": true
      },
      "cell_type": "code",
      "source": "def func(i):\n        if len(i)==2:\n            return True\n\ndef map1(x):\n    l=[]\n    for i in x:\n        if (func(i)):\n            l.append(i)\n    return l\n\nl=['1','2','32']\nprint(map1(l))",
      "execution_count": 6,
      "outputs": [
        {
          "output_type": "stream",
          "text": "['32']\n",
          "name": "stdout"
        }
      ]
    },
    {
      "metadata": {
        "trusted": true
      },
      "cell_type": "code",
      "source": "def func(i,j):\n    return i*j\n\ndef reduce1(x):\n    if (len(x)==1):\n        return x[0]\n    else:\n        s=func(x[0],x[1])\n        for i in x[2:]:\n            s=func(s,i)\n        return s\n\nl=[1,2,3,10,50]\nprint(reduce1(l))",
      "execution_count": 11,
      "outputs": [
        {
          "output_type": "stream",
          "text": "3000\n",
          "name": "stdout"
        }
      ]
    },
    {
      "metadata": {
        "trusted": true
      },
      "cell_type": "code",
      "source": "from functools import partial\n\n\ndef number_rep(a,b,c):\n    return a*b*c\n\n\nonly_ones = partial(number_rep, 1,2)\nonly_ones(6)",
      "execution_count": 13,
      "outputs": [
        {
          "output_type": "execute_result",
          "execution_count": 13,
          "data": {
            "text/plain": "12"
          },
          "metadata": {}
        }
      ]
    },
    {
      "metadata": {
        "trusted": true
      },
      "cell_type": "code",
      "source": "l=['a','b','c']\na=[int(x) for x in range(0,len(l))]\nzi=zip(a,l)\nfor i in zi:\n    print(i)",
      "execution_count": 14,
      "outputs": [
        {
          "output_type": "stream",
          "text": "(0, 'a')\n(1, 'b')\n(2, 'c')\n",
          "name": "stdout"
        }
      ]
    },
    {
      "metadata": {
        "trusted": true
      },
      "cell_type": "code",
      "source": "",
      "execution_count": null,
      "outputs": []
    }
  ],
  "metadata": {
    "kernelspec": {
      "name": "python3",
      "display_name": "Python 3",
      "language": "python"
    },
    "language_info": {
      "mimetype": "text/x-python",
      "nbconvert_exporter": "python",
      "name": "python",
      "file_extension": ".py",
      "version": "3.5.4",
      "pygments_lexer": "ipython3",
      "codemirror_mode": {
        "version": 3,
        "name": "ipython"
      }
    }
  },
  "nbformat": 4,
  "nbformat_minor": 1
}