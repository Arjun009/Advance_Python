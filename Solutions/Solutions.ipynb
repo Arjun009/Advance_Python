{
 "cells": [
  {
   "cell_type": "markdown",
   "metadata": {},
   "source": [
    "### Solutions"
   ]
  },
  {
   "cell_type": "markdown",
   "metadata": {},
   "source": [
    "#### Write your own implementation of zip()"
   ]
  },
  {
   "cell_type": "code",
   "execution_count": 2,
   "metadata": {},
   "outputs": [],
   "source": [
    "def my_zip(*itrs):\n",
    "    if not itrs:\n",
    "        return None\n",
    "    itr_list = list(itrs)\n",
    "    min_length = min([len(x) for x in itr_list])\n",
    "    zipped = []\n",
    "    for i in range(min_length):\n",
    "       zipped.append(tuple([ x[i] for x in itr_list]))\n",
    "    return zipped"
   ]
  },
  {
   "cell_type": "code",
   "execution_count": 3,
   "metadata": {},
   "outputs": [
    {
     "data": {
      "text/plain": [
       "[('Hello', 1), ('world', 2), ('I', 3), ('am', 4), ('Python', 5)]"
      ]
     },
     "execution_count": 3,
     "metadata": {},
     "output_type": "execute_result"
    }
   ],
   "source": [
    "words = ['Hello', 'world', 'I', 'am', 'Python']\n",
    "numbers = [1, 2, 3, 4, 5, 6] \n",
    "my_zip(words, numbers)"
   ]
  },
  {
   "cell_type": "code",
   "execution_count": null,
   "metadata": {},
   "outputs": [],
   "source": []
  },
  {
   "cell_type": "code",
   "execution_count": null,
   "metadata": {},
   "outputs": [],
   "source": []
  },
  {
   "cell_type": "code",
   "execution_count": null,
   "metadata": {},
   "outputs": [],
   "source": []
  },
  {
   "cell_type": "code",
   "execution_count": null,
   "metadata": {},
   "outputs": [],
   "source": []
  },
  {
   "cell_type": "markdown",
   "metadata": {},
   "source": [
    "#### Write your own implementation of enumerate() using zip()"
   ]
  },
  {
   "cell_type": "code",
   "execution_count": 9,
   "metadata": {},
   "outputs": [
    {
     "name": "stdout",
     "output_type": "stream",
     "text": [
      "[(0, 'Hello'), (1, 'world'), (2, 'I'), (3, 'am'), (4, 'Python')]\n",
      "[(1, 'Hello'), (2, 'world'), (3, 'I'), (4, 'am'), (5, 'Python')]\n"
     ]
    }
   ],
   "source": [
    "def my_enumerate(itr, start=0):\n",
    "    counter = range(start, start + len(itr))\n",
    "    return zip(counter, itr)\n",
    "\n",
    "words = ['Hello', 'world', 'I', 'am', 'Python']\n",
    "\n",
    "x = my_enumerate(words)\n",
    "print(list(x))\n",
    "\n",
    "x = my_enumerate(words, 1)\n",
    "print(list(x))"
   ]
  },
  {
   "cell_type": "code",
   "execution_count": null,
   "metadata": {},
   "outputs": [],
   "source": []
  },
  {
   "cell_type": "code",
   "execution_count": null,
   "metadata": {},
   "outputs": [],
   "source": []
  },
  {
   "cell_type": "code",
   "execution_count": null,
   "metadata": {},
   "outputs": [],
   "source": []
  },
  {
   "cell_type": "code",
   "execution_count": null,
   "metadata": {},
   "outputs": [],
   "source": []
  },
  {
   "cell_type": "markdown",
   "metadata": {},
   "source": [
    "#### Write your own implementation of partial() using \\*args and \\*\\*kwargs"
   ]
  },
  {
   "cell_type": "code",
   "execution_count": 5,
   "metadata": {},
   "outputs": [
    {
     "data": {
      "text/plain": [
       "1213"
      ]
     },
     "execution_count": 5,
     "metadata": {},
     "output_type": "execute_result"
    }
   ],
   "source": [
    "def number_rep(th, hun, ten, ones):\n",
    "    return 1000 * th + 100 * hun + 10 * ten + ones\n",
    "\n",
    "def my_partial(func, *given_args, **given_kwargs):\n",
    "    \n",
    "    def my_wrapper(*more_args, **more_kwargs):        \n",
    "        args = list(given_args) + list(more_args)\n",
    "        kwargs = {**given_kwargs, **more_kwargs}\n",
    "        return func(*args, **kwargs)\n",
    "    \n",
    "    return my_wrapper\n",
    "\n",
    "\n",
    "four_th = my_partial(number_rep,ten=1,hun=2,ones=3)\n",
    "four_th(th=1)"
   ]
  },
  {
   "cell_type": "markdown",
   "metadata": {},
   "source": [
    "#### Write your implementation of accumulate()\n"
   ]
  },
  {
   "cell_type": "code",
   "execution_count": 11,
   "metadata": {},
   "outputs": [
    {
     "name": "stdout",
     "output_type": "stream",
     "text": [
      "[0, 1, 3, 6, 10, 15, 21, 28, 36, 45, 55]\n"
     ]
    }
   ],
   "source": [
    "import operator\n",
    "#Instead of using operator.add, we can use lambda x, y: x + y\n",
    "\n",
    "\n",
    "def my_accumulate(itr, func=operator.add):\n",
    "    itr = list(itr)\n",
    "    val = itr[0]\n",
    "    ret_list = [val]\n",
    "    for i in range(1, len(itr)):\n",
    "        val = func(val, itr[i])\n",
    "        ret_list.append(val)\n",
    "    return ret_list\n",
    "\n",
    "\n",
    "numbers = range(11)\n",
    "print(my_accumulate(numbers))"
   ]
  },
  {
   "cell_type": "code",
   "execution_count": 9,
   "metadata": {},
   "outputs": [
    {
     "data": {
      "text/plain": [
       "[8, 8, 8, 8, 10, 10, 10, 10]"
      ]
     },
     "execution_count": 9,
     "metadata": {},
     "output_type": "execute_result"
    }
   ],
   "source": [
    "numbers_random = [8, 4, 2, 3, 10, 1, 2, 9]\n",
    "my_accumulate(numbers_random, max)"
   ]
  }
 ],
 "metadata": {
  "kernelspec": {
   "display_name": "Python 3",
   "language": "python",
   "name": "python3"
  },
  "language_info": {
   "codemirror_mode": {
    "name": "ipython",
    "version": 3
   },
   "file_extension": ".py",
   "mimetype": "text/x-python",
   "name": "python",
   "nbconvert_exporter": "python",
   "pygments_lexer": "ipython3",
   "version": "3.7.1"
  }
 },
 "nbformat": 4,
 "nbformat_minor": 2
}
