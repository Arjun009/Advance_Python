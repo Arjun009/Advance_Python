{
 "cells": [
  {
   "cell_type": "code",
   "execution_count": 1,
   "metadata": {},
   "outputs": [
    {
     "name": "stdout",
     "output_type": "stream",
     "text": [
      "[2, 4, 6, 8, 10, 12, 14, 16, 18, 20, 22, 24, 26, 28, 30, 32, 34, 36, 38, 40, 42, 44, 46, 48, 50, 52, 54, 56, 58, 60, 62, 64, 66, 68, 70, 72, 74, 76, 78, 80, 82, 84, 86, 88, 90, 92, 94, 96, 98]\n"
     ]
    }
   ],
   "source": [
    "#map\n",
    "ar=[]\n",
    "for i in range(1,100):\n",
    "    if(i%2==0):\n",
    "        ar.append(i)\n",
    "print(ar)"
   ]
  },
  {
   "cell_type": "code",
   "execution_count": 5,
   "metadata": {},
   "outputs": [
    {
     "name": "stdout",
     "output_type": "stream",
     "text": [
      "[153, 370, 371, 407]\n"
     ]
    }
   ],
   "source": [
    "#filter\n",
    "def arm(a):\n",
    "    copy=a\n",
    "    c=0\n",
    "    while(a!=0):\n",
    "        l=a%10\n",
    "        c=c+(l*l*l)\n",
    "        a=a//10\n",
    "    if(c==copy):\n",
    "        return True\n",
    "    else:\n",
    "        return False\n",
    "ar=[]\n",
    "for i in range(100,1000):\n",
    "    if(arm(i)):\n",
    "        ar.append(i)\n",
    "print(ar)"
   ]
  },
  {
   "cell_type": "code",
   "execution_count": 6,
   "metadata": {},
   "outputs": [
    {
     "data": {
      "text/plain": [
       "24"
      ]
     },
     "execution_count": 6,
     "metadata": {},
     "output_type": "execute_result"
    }
   ],
   "source": [
    "#reduce\n",
    "def fact(a):\n",
    "    if(a==1 or a==0):\n",
    "        return 1\n",
    "    else:\n",
    "        return a*fact(a-1)\n",
    "fact(4)"
   ]
  },
  {
   "cell_type": "code",
   "execution_count": 15,
   "metadata": {},
   "outputs": [
    {
     "name": "stdout",
     "output_type": "stream",
     "text": [
      "41\n",
      "74\n"
     ]
    },
    {
     "data": {
      "text/plain": [
       "138"
      ]
     },
     "execution_count": 15,
     "metadata": {},
     "output_type": "execute_result"
    }
   ],
   "source": [
    "#partial\n",
    "def my_partial(a,*args,**kwargs):\n",
    "    sum1=a\n",
    "    sum1=sum1+sum(args)\n",
    "    for i in (kwargs):\n",
    "        sum1=sum1+kwargs[i]\n",
    "        print(kwargs[i])\n",
    "    return sum1\n",
    "al=5\n",
    "my_partial(al,4,8,2,4,b=41,g=74)"
   ]
  },
  {
   "cell_type": "code",
   "execution_count": 23,
   "metadata": {},
   "outputs": [
    {
     "name": "stdout",
     "output_type": "stream",
     "text": [
      "[('a', 1), ('b', 2), ('c', 3), ('d', 4), ('e', 5), ('f', 6), ('g', 7)]\n"
     ]
    }
   ],
   "source": [
    "#zip\n",
    "ar1=[1,2,3,4,5,6,7]\n",
    "ar2=[\"a\",\"b\",\"c\",\"d\",\"e\",\"f\",\"g\",\"h\",\"i\"]\n",
    "def my_zip(a,b):\n",
    "    far=[]\n",
    "    if(len(a)>len(b)):\n",
    "        for i in range(len(b)):\n",
    "            far.append([b[i],a[i]])\n",
    "    else:\n",
    "        for i in range(len(a)):\n",
    "            far.append((b[i],a[i]))\n",
    "    return(far)\n",
    "print(my_zip(ar1,ar2))"
   ]
  },
  {
   "cell_type": "code",
   "execution_count": 34,
   "metadata": {},
   "outputs": [
    {
     "name": "stdout",
     "output_type": "stream",
     "text": [
      "(0, 'a')\n",
      "(1, 'b')\n",
      "(2, 'c')\n",
      "(3, 'd')\n",
      "(4, 'e')\n",
      "(5, 'f')\n",
      "(6, 'g')\n",
      "(7, 'h')\n",
      "(8, 'i')\n"
     ]
    }
   ],
   "source": [
    "ar=[\"a\",\"b\",\"c\",\"d\",\"e\",\"f\",\"g\",\"h\",\"i\"]\n",
    "def my_enu(a):\n",
    "    n=[]\n",
    "    for i in range(len(ar)):\n",
    "       n.append(i) \n",
    "    return(zip(n,a))\n",
    "e=my_enu(ar)\n",
    "for i in e:\n",
    "    print(i)"
   ]
  },
  {
   "cell_type": "code",
   "execution_count": 38,
   "metadata": {},
   "outputs": [
    {
     "data": {
      "text/plain": [
       "16"
      ]
     },
     "execution_count": 38,
     "metadata": {},
     "output_type": "execute_result"
    }
   ],
   "source": [
    "#1. Add at least two numbers,\n",
    "def add(*args):\n",
    "    return(sum(args))\n",
    "add(2,4,5,5)"
   ]
  },
  {
   "cell_type": "code",
   "execution_count": 51,
   "metadata": {},
   "outputs": [
    {
     "name": "stdout",
     "output_type": "stream",
     "text": [
      "Enter 1 for multiplying by 100 = 1\n",
      "Enter 2 for dividing by 3 = 2\n",
      "Hello\n",
      "True True\n",
      "1600\n",
      "5.333333333333333\n"
     ]
    }
   ],
   "source": [
    "#2. Multiply by 100 if asked, else don't, \n",
    "#3. Divide by 3 if asked, else dont't.\n",
    "def add(*args,x,y):\n",
    "    print(x,y)\n",
    "    t=sum(args)\n",
    "    if(x==True):\n",
    "        print(t*100)\n",
    "    if(y==True):\n",
    "        print(t/3)\n",
    "    else:\n",
    "        print(t)\n",
    "a=int(input(\"Enter 1 for multiplying by 100 = \"))\n",
    "b=int(input(\"Enter 2 for dividing by 3 = \"))\n",
    "if(a==1 and b==2):\n",
    "    print(\"Hello\")\n",
    "    add(2,4,5,5,x=True,y=True)\n",
    "elif(a==1 and b!=2):\n",
    "    add(2,4,5,5,x=True,y=False)\n",
    "elif(a!=1 and b!=2):\n",
    "    print(\"Hello1\")\n",
    "    add(2,4,5,5,x=False,y=False)\n",
    "else:\n",
    "    add(2,4,5,5,x=False,y=True)"
   ]
  },
  {
   "cell_type": "code",
   "execution_count": 2,
   "metadata": {},
   "outputs": [
    {
     "name": "stdout",
     "output_type": "stream",
     "text": [
      "1\n",
      "2\n",
      "3\n",
      "4\n",
      "5\n",
      "6\n"
     ]
    }
   ],
   "source": [
    "def my_for(func,ar):\n",
    "    i=0\n",
    "    while (True):\n",
    "        try:\n",
    "            a=ar[i]\n",
    "            i=i+1\n",
    "            func(a)\n",
    "        except:\n",
    "            break\n",
    "my_for(print,[1,2,3,4,5,6])"
   ]
  },
  {
   "cell_type": "code",
   "execution_count": 13,
   "metadata": {},
   "outputs": [
    {
     "name": "stdout",
     "output_type": "stream",
     "text": [
      "Enter number for factorial = 5\n",
      "5\n",
      "20\n",
      "60\n",
      "120\n",
      "Result= 120\n"
     ]
    }
   ],
   "source": [
    "#reduce\n",
    "def fact(a,f):\n",
    "    if(a==1 or a==0):\n",
    "        return(1)\n",
    "    else:\n",
    "        print(f)\n",
    "        return a*fact(a-1,(f*(a-1)))\n",
    "n=int(input(\"Enter number for factorial = \"))\n",
    "f=n\n",
    "print(\"Result=\",fact(n,f))"
   ]
  }
 ],
 "metadata": {
  "kernelspec": {
   "display_name": "Python 3",
   "language": "python",
   "name": "python3"
  },
  "language_info": {
   "codemirror_mode": {
    "name": "ipython",
    "version": 3
   },
   "file_extension": ".py",
   "mimetype": "text/x-python",
   "name": "python",
   "nbconvert_exporter": "python",
   "pygments_lexer": "ipython3",
   "version": "3.7.0"
  }
 },
 "nbformat": 4,
 "nbformat_minor": 2
}
