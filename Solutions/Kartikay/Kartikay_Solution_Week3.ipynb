{
 "cells": [
  {
   "cell_type": "code",
   "execution_count": 2,
   "metadata": {},
   "outputs": [
    {
     "data": {
      "text/plain": [
       "45"
      ]
     },
     "execution_count": 2,
     "metadata": {},
     "output_type": "execute_result"
    }
   ],
   "source": [
    "#reduce\n",
    "from functools import reduce\n",
    "numbers = range(10)\n",
    "total = reduce(lambda x, y:x + y, numbers)\n",
    "total"
   ]
  },
  {
   "cell_type": "code",
   "execution_count": 12,
   "metadata": {},
   "outputs": [
    {
     "name": "stdout",
     "output_type": "stream",
     "text": [
      "45\n"
     ]
    }
   ],
   "source": [
    "#list comprehension\n",
    "def func(a):\n",
    "    return(sum(a))\n",
    "sum1=func(i for i in range(10))\n",
    "print(sum1)"
   ]
  },
  {
   "cell_type": "code",
   "execution_count": 1,
   "metadata": {},
   "outputs": [
    {
     "name": "stdout",
     "output_type": "stream",
     "text": [
      "[[0, 1, 2, 3, 4, 5, 6, 7, 8, 9], [10, 11, 12, 13, 14, 15, 16, 17, 18, 19]]\n"
     ]
    }
   ],
   "source": [
    "ar=[]\n",
    "def my(*args):\n",
    "    for i in args :\n",
    "        ar.append(i)\n",
    "my([i for i in range(10)],[i for i in range (10,20) ])    \n",
    "print(ar)"
   ]
  },
  {
   "cell_type": "code",
   "execution_count": 24,
   "metadata": {},
   "outputs": [
    {
     "name": "stdout",
     "output_type": "stream",
     "text": [
      "27\n",
      "14\n"
     ]
    }
   ],
   "source": [
    "#list comprehension\n",
    "from functools import *\n",
    "sum1=[[5,4,3,7,8],[7,4,2,1]]\n",
    "a=[reduce(lambda x,y:x+y,i) for i in sum1]\n",
    "for i in a:\n",
    "    print(i)"
   ]
  },
  {
   "cell_type": "code",
   "execution_count": 3,
   "metadata": {},
   "outputs": [
    {
     "data": {
      "text/plain": [
       "[4, 5, 6, 1, 2, 3]"
      ]
     },
     "execution_count": 3,
     "metadata": {},
     "output_type": "execute_result"
    }
   ],
   "source": [
    "#union\n",
    "def my_union(lst1,lst2):\n",
    "    a=[]\n",
    "    for i in lst1:\n",
    "        if(i not in a):\n",
    "            a.append(i)\n",
    "    for j in lst2:\n",
    "         if(j  not in a):\n",
    "            a.append(j)\n",
    "    return a\n",
    "my_union([4,5,6],[1,2,3,4,5])"
   ]
  },
  {
   "cell_type": "code",
   "execution_count": 4,
   "metadata": {},
   "outputs": [
    {
     "data": {
      "text/plain": [
       "[4, 5, 6]"
      ]
     },
     "execution_count": 4,
     "metadata": {},
     "output_type": "execute_result"
    }
   ],
   "source": [
    "#intersection\n",
    "def my_intersection(l1,l2):\n",
    "    a=[i for i in l1 if(i in l2)]\n",
    "    return a\n",
    "my_intersection([1,2,3,4,5,6],[4,5,6,7,8,9])"
   ]
  },
  {
   "cell_type": "code",
   "execution_count": 5,
   "metadata": {},
   "outputs": [
    {
     "data": {
      "text/plain": [
       "[1, 2, 3]"
      ]
     },
     "execution_count": 5,
     "metadata": {},
     "output_type": "execute_result"
    }
   ],
   "source": [
    "#difference\n",
    "def my_diff(l1,l2):\n",
    "    a=[i for i in l1 if(i not in l2)]\n",
    "    return a\n",
    "my_diff([1,2,3,4,5,6],[4,5,6,7,8,9])"
   ]
  },
  {
   "cell_type": "code",
   "execution_count": 13,
   "metadata": {},
   "outputs": [
    {
     "data": {
      "text/plain": [
       "[4, 5, 6, 1, 2, 3]"
      ]
     },
     "execution_count": 13,
     "metadata": {},
     "output_type": "execute_result"
    }
   ],
   "source": [
    "#dictionary and union\n",
    "def my_union(d1,d2):\n",
    "    a=[]\n",
    "    for i in d1.values():\n",
    "        if(i not in a):\n",
    "            a.append(i)\n",
    "    for j in d2.values():\n",
    "         if(j  not in a):\n",
    "            a.append(j)\n",
    "    return a\n",
    "my_union({'a':4,'b':5,'c':6},{'a':1,'b':2,'c':3,'d':4,'e':5})"
   ]
  },
  {
   "cell_type": "code",
   "execution_count": 14,
   "metadata": {},
   "outputs": [
    {
     "data": {
      "text/plain": [
       "[4, 5, 6]"
      ]
     },
     "execution_count": 14,
     "metadata": {},
     "output_type": "execute_result"
    }
   ],
   "source": [
    "#dictionary and intersection\n",
    "def my_intersection(l1,l2):\n",
    "    a=[i for i in l1.values() if(i in l2.values())]\n",
    "    return a\n",
    "my_intersection({'a':1,'b':2,'c':3,'d':4,'e':5,'f':6},{'a':4,'b':5,'c':6,'d':7,'e':8,'f':9})"
   ]
  },
  {
   "cell_type": "code",
   "execution_count": null,
   "metadata": {},
   "outputs": [],
   "source": [
    "#dictionary and difference\n",
    "def my_diff(l1,l2):\n",
    "    a=[i for i in l1.values() if(i not in l2.values())]\n",
    "    return a\n",
    "my_diff({'a':1,'b':2,'c':3,'d':4,'e':5,'f':6},{'a':4,'b':5,'c':6,'d':7,'e':8,'f':9})"
   ]
  },
  {
   "cell_type": "code",
   "execution_count": 47,
   "metadata": {},
   "outputs": [
    {
     "name": "stdout",
     "output_type": "stream",
     "text": [
      "Enter a number = 55\n",
      "2\n",
      "3\n",
      "5\n",
      "7\n",
      "11\n",
      "13\n",
      "17\n",
      "19\n",
      "23\n",
      "29\n",
      "31\n",
      "37\n",
      "41\n",
      "43\n",
      "47\n",
      "53\n"
     ]
    }
   ],
   "source": [
    "#prime numbers \n",
    "def pr(st):\n",
    "    for i in range(2,st):\n",
    "        flag=0\n",
    "        for j in range(2,i-1):\n",
    "            if(i%j==0):\n",
    "                flag=1\n",
    "        if(flag==0):\n",
    "            yield i\n",
    "            \n",
    "n=int(input(\"Enter a number = \"))\n",
    "a=pr(n)\n",
    "for i in a:\n",
    "    print(i)"
   ]
  },
  {
   "cell_type": "code",
   "execution_count": 27,
   "metadata": {},
   "outputs": [
    {
     "name": "stdout",
     "output_type": "stream",
     "text": [
      "4\n",
      "5\n",
      "47\n",
      "8\n",
      "4\n",
      "4\n"
     ]
    }
   ],
   "source": [
    "#map\n",
    "def gen_map(*a):\n",
    "    for i in a :\n",
    "        yield i\n",
    "z=gen_map(4,5,47,8,4,4)\n",
    "for i in z:\n",
    "    print(i)"
   ]
  },
  {
   "cell_type": "code",
   "execution_count": 29,
   "metadata": {},
   "outputs": [
    {
     "name": "stdout",
     "output_type": "stream",
     "text": [
      "4\n",
      "8\n",
      "4\n",
      "4\n"
     ]
    }
   ],
   "source": [
    "#filter\n",
    "def gen_map(*a):\n",
    "    for i in a :\n",
    "        if(i%2==0):\n",
    "            yield i\n",
    "z=gen_map(4,5,47,8,4,4)\n",
    "for i in z:\n",
    "    print(i)"
   ]
  },
  {
   "cell_type": "code",
   "execution_count": 39,
   "metadata": {},
   "outputs": [
    {
     "name": "stdout",
     "output_type": "stream",
     "text": [
      "(4, 8)\n",
      "(5, 4)\n",
      "(47, 4)\n"
     ]
    }
   ],
   "source": [
    "#zip\n",
    "def gen_map(a,b):\n",
    "    t=0\n",
    "    if(len(a)<len(b)):\n",
    "        t=len(a)\n",
    "    else:\n",
    "        t=len(b)\n",
    "    for i in range(0,t):\n",
    "        yield (a[i],b[i])\n",
    "z=gen_map((4,5,47),(8,4,4))\n",
    "for i in z:\n",
    "    print(i)"
   ]
  },
  {
   "cell_type": "code",
   "execution_count": 46,
   "metadata": {},
   "outputs": [
    {
     "name": "stdout",
     "output_type": "stream",
     "text": [
      "(0, 4)\n",
      "(1, 5)\n",
      "(2, 47)\n",
      "(3, 8)\n",
      "(4, 4)\n",
      "(5, 4)\n"
     ]
    }
   ],
   "source": [
    "#enumerate\n",
    "def gen_map(*a):\n",
    "    j=0\n",
    "    for i in a :\n",
    "        yield (j,i)\n",
    "        j=j+1\n",
    "z=gen_map(4,5,47,8,4,4)\n",
    "for i in z:\n",
    "    print(i)"
   ]
  },
  {
   "cell_type": "code",
   "execution_count": 49,
   "metadata": {},
   "outputs": [
    {
     "name": "stdout",
     "output_type": "stream",
     "text": [
      "0\n",
      "1\n",
      "3\n",
      "6\n",
      "10\n",
      "15\n",
      "21\n",
      "28\n",
      "36\n",
      "45\n"
     ]
    }
   ],
   "source": [
    "#accumulate \n",
    "def func(a):\n",
    "    j=0\n",
    "    for i in a:\n",
    "        j=j+i\n",
    "        yield(j)\n",
    "sum1=func(i for i in range(10))\n",
    "for i in sum1:\n",
    "    print(i)"
   ]
  },
  {
   "cell_type": "code",
   "execution_count": 50,
   "metadata": {},
   "outputs": [
    {
     "data": {
      "text/plain": [
       "{'a': 2, 'b': 1, 's': 1}"
      ]
     },
     "execution_count": 50,
     "metadata": {},
     "output_type": "execute_result"
    }
   ],
   "source": [
    "#elements count\n",
    "def dc(a):\n",
    "    d={}\n",
    "    for i in a :\n",
    "        if(i not in d):\n",
    "            d[i]=1\n",
    "        else:\n",
    "            d[i]=d[i]+1\n",
    "    return d\n",
    "dc(\"aabs\")"
   ]
  },
  {
   "cell_type": "code",
   "execution_count": null,
   "metadata": {},
   "outputs": [],
   "source": []
  }
 ],
 "metadata": {
  "kernelspec": {
   "display_name": "Python 3",
   "language": "python",
   "name": "python3"
  },
  "language_info": {
   "codemirror_mode": {
    "name": "ipython",
    "version": 3
   },
   "file_extension": ".py",
   "mimetype": "text/x-python",
   "name": "python",
   "nbconvert_exporter": "python",
   "pygments_lexer": "ipython3",
   "version": "3.7.1"
  }
 },
 "nbformat": 4,
 "nbformat_minor": 2
}
