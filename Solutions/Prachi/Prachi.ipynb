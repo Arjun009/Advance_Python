{
 "cells": [
  {
   "cell_type": "code",
   "execution_count": 6,
   "metadata": {},
   "outputs": [
    {
     "name": "stdout",
     "output_type": "stream",
     "text": [
      "108\n"
     ]
    }
   ],
   "source": [
    "a=lambda x:x**2+x*6-4\n",
    "print(a(8))"
   ]
  },
  {
   "cell_type": "code",
   "execution_count": 10,
   "metadata": {},
   "outputs": [
    {
     "name": "stdout",
     "output_type": "stream",
     "text": [
      "[14, 8, 11]\n"
     ]
    }
   ],
   "source": [
    "list1 = [8,5,3,9] \n",
    "list2 = [6,3,8] \n",
    "xy = map(lambda x, y: x + y, list1, list2) \n",
    "print(list(xy)) "
   ]
  },
  {
   "cell_type": "code",
   "execution_count": 15,
   "metadata": {},
   "outputs": [
    {
     "data": {
      "text/plain": [
       "[1, 2, 3, 5, 7, 11, 13, 17, 19, 23, 29, 31, 37, 41, 43, 47]"
      ]
     },
     "execution_count": 15,
     "metadata": {},
     "output_type": "execute_result"
    }
   ],
   "source": [
    "import math\n",
    "\n",
    "numb = range(1, 50)\n",
    "\n",
    "\n",
    "def is_prime(x):\n",
    "    flag=True\n",
    "    for i in range(2,x):\n",
    "        if(x%i==0):\n",
    "            flag=False\n",
    "            break\n",
    "    return flag\n",
    "prime = list(filter(is_prime, numb))\n",
    "prime"
   ]
  },
  {
   "cell_type": "code",
   "execution_count": 22,
   "metadata": {},
   "outputs": [
    {
     "data": {
      "text/plain": [
       "14"
      ]
     },
     "execution_count": 22,
     "metadata": {},
     "output_type": "execute_result"
    }
   ],
   "source": [
    "from functools import reduce\n",
    "numb=list(range(1,15))\n",
    "max=reduce(lambda a,b : a if a > b else b,numb)\n",
    "max"
   ]
  },
  {
   "cell_type": "code",
   "execution_count": 25,
   "metadata": {},
   "outputs": [
    {
     "name": "stdout",
     "output_type": "stream",
     "text": [
      "('hello', 5)\n",
      "('world', 41)\n",
      "('how', 21)\n",
      "('you', 52)\n"
     ]
    }
   ],
   "source": [
    "a=['hello','world','how','you','doing?']\n",
    "b=[5,41,21,52]\n",
    "xy=zip(a,b)\n",
    "for i in xy:\n",
    "    print(i)"
   ]
  },
  {
   "cell_type": "code",
   "execution_count": 29,
   "metadata": {},
   "outputs": [
    {
     "name": "stdout",
     "output_type": "stream",
     "text": [
      "hello 0\n",
      "world 1\n",
      "how 2\n",
      "you 3\n",
      "doing? 4\n"
     ]
    }
   ],
   "source": [
    "a=['hello','world','how','you','doing?']\n",
    "for i,j in enumerate(a):\n",
    "    print(\"{} {}\".format(j,i))\n",
    "    "
   ]
  },
  {
   "cell_type": "code",
   "execution_count": null,
   "metadata": {},
   "outputs": [],
   "source": []
  }
 ],
 "metadata": {
  "kernelspec": {
   "display_name": "Python 3",
   "language": "python",
   "name": "python3"
  },
  "language_info": {
   "codemirror_mode": {
    "name": "ipython",
    "version": 3
   },
   "file_extension": ".py",
   "mimetype": "text/x-python",
   "name": "python",
   "nbconvert_exporter": "python",
   "pygments_lexer": "ipython3",
   "version": "3.6.5"
  }
 },
 "nbformat": 4,
 "nbformat_minor": 2
}
