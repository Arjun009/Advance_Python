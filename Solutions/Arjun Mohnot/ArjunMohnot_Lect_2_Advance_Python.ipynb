{
 "cells": [
  {
   "cell_type": "markdown",
   "metadata": {},
   "source": [
    "#### Implementation of map functions done in lecture 2 to find the len of words in list"
   ]
  },
  {
   "cell_type": "code",
   "execution_count": 67,
   "metadata": {},
   "outputs": [
    {
     "data": {
      "text/plain": [
       "[3, 6]"
      ]
     },
     "execution_count": 67,
     "metadata": {},
     "output_type": "execute_result"
    }
   ],
   "source": [
    "def my_map(funct,itr):\n",
    "    ret_lst=[]\n",
    "    for i in itr:\n",
    "        ret_lst.append(funct(i))\n",
    "    return ret_lst\n",
    "words=['sfs','am2027']\n",
    "my_map(len,words)"
   ]
  },
  {
   "cell_type": "markdown",
   "metadata": {},
   "source": [
    "#### Implementation of map functions to calculate the setbit of the numbers present in the list"
   ]
  },
  {
   "cell_type": "code",
   "execution_count": 68,
   "metadata": {},
   "outputs": [
    {
     "data": {
      "text/plain": [
       "[1, 1, 2, 1, 2, 2, 3, 1, 2]"
      ]
     },
     "execution_count": 68,
     "metadata": {},
     "output_type": "execute_result"
    }
   ],
   "source": [
    "def setbit(n):\n",
    "    counter=0\n",
    "    while(n>0):\n",
    "        n&=n-1\n",
    "        counter+=1\n",
    "    return counter\n",
    "\n",
    "def my_map_1(setbit,iterable):\n",
    "    setbit_list=[]\n",
    "    for i in iterable:\n",
    "        setbit_list.append(setbit(i))\n",
    "    return setbit_list\n",
    "numbers=[1,2,3,4,5,6,7,8,9]\n",
    "my_map_1(setbit,numbers)\n"
   ]
  },
  {
   "cell_type": "markdown",
   "metadata": {},
   "source": [
    "#### Positional argumrnts with keyword arguments"
   ]
  },
  {
   "cell_type": "code",
   "execution_count": 69,
   "metadata": {},
   "outputs": [
    {
     "name": "stdout",
     "output_type": "stream",
     "text": [
      "600\n",
      "200.0\n"
     ]
    }
   ],
   "source": [
    "def func(pa1,pa2,*args,**kwargs):\n",
    "    b=sum(args)+pa2+pa1\n",
    "    if [*kwargs][0]=='kw1':\n",
    "        b=b*100\n",
    "        print(b)\n",
    "    if kwargs['kw2']==2:\n",
    "        b=b/3\n",
    "        print(b)\n",
    "func(1,2,3,kw1=1,kw2=2) \n",
    "        "
   ]
  },
  {
   "cell_type": "markdown",
   "metadata": {},
   "source": [
    "#### Use of args"
   ]
  },
  {
   "cell_type": "code",
   "execution_count": 70,
   "metadata": {},
   "outputs": [
    {
     "name": "stdout",
     "output_type": "stream",
     "text": [
      "69\n",
      "120\n"
     ]
    }
   ],
   "source": [
    "def multiply(*args):\n",
    "    z = 1\n",
    "    for num in args:\n",
    "        z *= num\n",
    "    print(z)\n",
    "\n",
    "multiply(3, 23)\n",
    "l=(i for i in range(1,6))\n",
    "multiply(*l)\n"
   ]
  },
  {
   "cell_type": "markdown",
   "metadata": {},
   "source": [
    "#### Use of kwargs"
   ]
  },
  {
   "cell_type": "code",
   "execution_count": 71,
   "metadata": {},
   "outputs": [
    {
     "name": "stdout",
     "output_type": "stream",
     "text": [
      "\n",
      "Data type of argument: <class 'dict'>\n",
      "Firstname is Arjun\n",
      "Lastname is Mohnot\n",
      "Age is 19\n",
      "Phone is 7733993964\n",
      "\n",
      "Data type of argument: <class 'dict'>\n",
      "Email is am2027@bennett.edu.in\n",
      "Country is India\n",
      "City is Greater Noida\n"
     ]
    }
   ],
   "source": [
    "def args(**args):\n",
    "    print(\"\\nData type of argument:\",type(args))\n",
    "    for key, value in args.items():\n",
    "        print(\"{} is {}\".format(key,value))\n",
    "\n",
    "args(Firstname=\"Arjun\", Lastname=\"Mohnot\", Age=19, Phone=7733993964)\n",
    "args(Email=\"am2027@bennett.edu.in\", Country=\"India\",City=\"Greater Noida\")"
   ]
  },
  {
   "cell_type": "markdown",
   "metadata": {},
   "source": [
    "#### Use of positional arguments and keyword arguments to convert temperature from kelvin to celcius and fahrenhite "
   ]
  },
  {
   "cell_type": "code",
   "execution_count": 72,
   "metadata": {},
   "outputs": [
    {
     "name": "stdout",
     "output_type": "stream",
     "text": [
      "Enter Temperature in Kelvin with spaces\n",
      "273 -273 0 100\n",
      "Press 1 for fahrenhite or 2 for celcius\n",
      "2\n",
      "Temperature in Kelvin  273 -273 0 100\n",
      "Temperature in Celcius  0 -546 -273 -173\n"
     ]
    }
   ],
   "source": [
    "def temp(pa1,*args,fah=False,cel=False):\n",
    "    \n",
    "    s=[pa1]+list(args)\n",
    "    s=tuple(s)\n",
    "    print(\"Temperature in Kelvin \",*s)\n",
    "    if fah:\n",
    "        s=[(9/5)*(k-273)+32 for k in s]\n",
    "        print(\"Temperature in Fahrenhite \",*s)\n",
    "    if cel:\n",
    "        s=[k-273 for k in s]\n",
    "        print(\"Temperature in Celcius \",*s)\n",
    "print(\"Enter Temperature in Kelvin with spaces\")\n",
    "l=list(map(int,input().split()))\n",
    "print(\"Press 1 for fahrenhite or 2 for celcius\")\n",
    "dct={'fah':False,'cel':False}\n",
    "choice=int(input())\n",
    "if choice==1:\n",
    "    dct['fah']=True\n",
    "elif choice==2:\n",
    "    dct['cel']=True\n",
    "temp(*l,**dct)"
   ]
  },
  {
   "cell_type": "markdown",
   "metadata": {},
   "source": [
    "#### Implementation of for loop using iter"
   ]
  },
  {
   "cell_type": "code",
   "execution_count": 73,
   "metadata": {},
   "outputs": [
    {
     "name": "stdout",
     "output_type": "stream",
     "text": [
      "1\n",
      "2\n",
      "3\n",
      "4\n",
      "5\n",
      "6\n"
     ]
    }
   ],
   "source": [
    "numbers = [1, 2, 3,4, 5, 6]\n",
    "numbers_it = iter(numbers)\n",
    "while True:\n",
    "    try:\n",
    "        print(next(numbers_it))\n",
    "    except:\n",
    "        break"
   ]
  },
  {
   "cell_type": "markdown",
   "metadata": {},
   "source": [
    "#### Use of partial,random,combinations and iter"
   ]
  },
  {
   "cell_type": "code",
   "execution_count": 74,
   "metadata": {},
   "outputs": [
    {
     "name": "stdout",
     "output_type": "stream",
     "text": [
      "I\n",
      "Love\n",
      "Python\n",
      "I Love\n",
      "I Python\n",
      "Love Python\n",
      "I Love\n",
      "I Python\n",
      "Love Python\n",
      "I Love\n",
      "I Python\n",
      "Love Python\n",
      "I\n",
      "Love\n",
      "Python\n",
      "I Love Python\n"
     ]
    }
   ],
   "source": [
    "import random\n",
    "from functools import partial\n",
    "from itertools import combinations\n",
    "def randoms(lower,higher,names):\n",
    "    k=list(combinations(names,random.randint(lower,higher)))\n",
    "    for i in k:\n",
    "      print(\" \".join(i))\n",
    "    return len(k)\n",
    "names=['I','Love','Python']\n",
    "variable=partial(randoms,1,4,names)\n",
    "iterable=iter(variable,1)\n",
    "for i in iterable:\n",
    "  continue\n"
   ]
  },
  {
   "cell_type": "markdown",
   "metadata": {},
   "source": [
    "#### Implementation of accumulate function"
   ]
  },
  {
   "cell_type": "code",
   "execution_count": 75,
   "metadata": {},
   "outputs": [
    {
     "name": "stdout",
     "output_type": "stream",
     "text": [
      "[1, 2, 6, 24, 120]\n"
     ]
    }
   ],
   "source": [
    "import operator\n",
    "def accumulate(iterable,func=operator.mul):\n",
    "    it = iter(iterable)\n",
    "    try:\n",
    "        total = next(it)\n",
    "    except StopIteration:\n",
    "        return\n",
    "    yield total\n",
    "    for element in it:\n",
    "        total = func(total, element)\n",
    "        yield total\n",
    "print(list(accumulate([i for i in range(1,6)])))"
   ]
  },
  {
   "cell_type": "markdown",
   "metadata": {},
   "source": [
    "#### Accumulate function"
   ]
  },
  {
   "cell_type": "code",
   "execution_count": 76,
   "metadata": {},
   "outputs": [
    {
     "name": "stdout",
     "output_type": "stream",
     "text": [
      "Enter number 123\n",
      "[1, 3, 6]\n"
     ]
    }
   ],
   "source": [
    "from itertools import accumulate\n",
    "var=accumulate([int(i) for i in str(int(input(\"Enter number \")))],lambda x,y:x+y)\n",
    "print(list(var))"
   ]
  },
  {
   "cell_type": "markdown",
   "metadata": {},
   "source": [
    "#### Implementation of zip_longest"
   ]
  },
  {
   "cell_type": "code",
   "execution_count": 77,
   "metadata": {},
   "outputs": [
    {
     "name": "stdout",
     "output_type": "stream",
     "text": [
      "[('A', 'x', 'A'), ('B', 'y', 'r'), ('C', '-', 'j'), ('D', '-', 'u'), ('-', '-', 'n')]\n"
     ]
    }
   ],
   "source": [
    "from itertools import repeat\n",
    "def zip_longest(*args, fillvalue=None):\n",
    "    iterators = [iter(it) for it in args]\n",
    "    num_active = len(iterators)\n",
    "    if not num_active:\n",
    "        return\n",
    "    while True:\n",
    "        values = []\n",
    "        for i, it in enumerate(iterators):\n",
    "            try:\n",
    "                value = next(it)\n",
    "            except StopIteration:\n",
    "                num_active -= 1\n",
    "                if not num_active:\n",
    "                    return\n",
    "                iterators[i] = repeat(fillvalue)\n",
    "                value = fillvalue\n",
    "            values.append(value)\n",
    "        yield tuple(values)\n",
    "print(list(zip_longest('ABCD', 'xy','Arjun' ,fillvalue='-')))"
   ]
  },
  {
   "cell_type": "code",
   "execution_count": null,
   "metadata": {},
   "outputs": [],
   "source": []
  }
 ],
 "metadata": {
  "kernelspec": {
   "display_name": "Python 3",
   "language": "python",
   "name": "python3"
  },
  "language_info": {
   "codemirror_mode": {
    "name": "ipython",
    "version": 3
   },
   "file_extension": ".py",
   "mimetype": "text/x-python",
   "name": "python",
   "nbconvert_exporter": "python",
   "pygments_lexer": "ipython3",
   "version": "3.6.6"
  }
 },
 "nbformat": 4,
 "nbformat_minor": 2
}
