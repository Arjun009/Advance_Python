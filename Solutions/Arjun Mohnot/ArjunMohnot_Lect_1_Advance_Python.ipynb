{
 "cells": [
  {
   "cell_type": "markdown",
   "metadata": {},
   "source": [
    "# Implementation of Advance Python, Lecture-1 "
   ]
  },
  {
   "cell_type": "raw",
   "metadata": {},
   "source": [
    "#LAMBDA_MAP"
   ]
  },
  {
   "cell_type": "code",
   "execution_count": 1,
   "metadata": {},
   "outputs": [
    {
     "name": "stdout",
     "output_type": "stream",
     "text": [
      "['Arjun-Mohnot', 'Class: 2021']\n"
     ]
    }
   ],
   "source": [
    "#concatenating elements present in l1 & l2 to a new list with respect to index; if length of word present at l1 is even than it will concatenate with '-' else with \" \" (blank spaces). \n",
    "l1=[\"Arjun\",\"Class:\"]\n",
    "l2=[\"Mohnot\",\"2021\"]\n",
    "a=list(map(lambda x,y:x+\"-\"+y if len(x)%2 else x+\" \"+y,l1,l2 ))\n",
    "print(a)"
   ]
  },
  {
   "cell_type": "markdown",
   "metadata": {},
   "source": [
    "#Filter_MAP_LAMBDA"
   ]
  },
  {
   "cell_type": "code",
   "execution_count": null,
   "metadata": {},
   "outputs": [],
   "source": [
    "#Checking lexiographically if chr(x)>\"B\" than it will filter those elemts into the list.(Here list is reduced to element at 60th to 75th index.)\n",
    "a1=[i for i in range(2,100)]\n",
    "a2=list(filter(lambda x: chr(x)>'B',a1[-40:-25])) \n",
    "print(a2)"
   ]
  },
  {
   "cell_type": "raw",
   "metadata": {},
   "source": [
    "#Reduce_MAP_LAMBDA"
   ]
  },
  {
   "cell_type": "code",
   "execution_count": null,
   "metadata": {},
   "outputs": [],
   "source": [
    "#Sum up the digits e.g given input 123 -> output as 6 (1+2+3=6)\n",
    "from functools import reduce\n",
    "print([reduce(lambda x,y:x+y,[int(i) for i in str(int(input(\"Enter number \")))])][0])"
   ]
  },
  {
   "cell_type": "raw",
   "metadata": {},
   "source": [
    "#Another example with REDUCE_MAP_LAMBDA"
   ]
  },
  {
   "cell_type": "code",
   "execution_count": null,
   "metadata": {},
   "outputs": [],
   "source": [
    "#Finding Factorial of the given number using reduce\n",
    "from functools import reduce\n",
    "numbers = int(input())\n",
    "total = reduce(lambda x, y:x*y, range(1,numbers+1))\n",
    "total"
   ]
  },
  {
   "cell_type": "raw",
   "metadata": {},
   "source": [
    "#Partial"
   ]
  },
  {
   "cell_type": "code",
   "execution_count": 5,
   "metadata": {},
   "outputs": [
    {
     "name": "stdout",
     "output_type": "stream",
     "text": [
      "Enter String khan\n",
      "Enter 1 or 2 to select either Shift or ceaser 1\n",
      "Enter number to shift the digits 19\n",
      "DATG\n"
     ]
    }
   ],
   "source": [
    "# Shift & Ceaser Cipher Implementation. x=xmod26+3 for ceaser cipher and for shift x=(x+K)%26\n",
    "from functools import partial\n",
    "def cipher(x,y,z):\n",
    "    key=[((ord(i)-65+y)%26+z)+65 for i in x]\n",
    "    encrypt=[chr(i) for i in key]\n",
    "    return \"\".join(encrypt)\n",
    "string=input(\"Enter String \").upper()\n",
    "choice=int(input(\"Enter 1 or 2 to select either Shift or ceaser \"))\n",
    "temp=partial(cipher,x=string)\n",
    "if(choice==1):\n",
    "    shift=int(input(\"Enter number to shift the digits \"))\n",
    "    print(\"Encrypted string with shift key \",shift,\" is \",temp(y=shift,z=0))\n",
    "else:\n",
    "    print(\"Encrypted string in ceaser cipher \"temp(y=0,z=3))"
   ]
  },
  {
   "cell_type": "raw",
   "metadata": {},
   "source": [
    "#Another example with Partial"
   ]
  },
  {
   "cell_type": "code",
   "execution_count": null,
   "metadata": {},
   "outputs": [],
   "source": [
    "#Inspired by codechef to take modulo from 10**9+1 for a bigger number.\n",
    "from functools import partial\n",
    "def number(num,pows,prime):\n",
    "    return  (num**pows)%prime\n",
    "\n",
    "ones = partial(number,pows=221,prime=10**9+1)\n",
    "ones(num=100)"
   ]
  },
  {
   "cell_type": "raw",
   "metadata": {},
   "source": [
    "#Zip function"
   ]
  },
  {
   "cell_type": "code",
   "execution_count": 14,
   "metadata": {},
   "outputs": [
    {
     "name": "stdout",
     "output_type": "stream",
     "text": [
      "Decimal-> 81 , Binary-> 0b1010001 , Octal-> 0o121 , Hexa-> 0x51\n",
      "Decimal-> 65 , Binary-> 0b1000001 , Octal-> 0o101 , Hexa-> 0x41\n",
      "Decimal-> 72 , Binary-> 0b1001000 , Octal-> 0o110 , Hexa-> 0x48\n",
      "Decimal-> 5 , Binary-> 0b101 , Octal-> 0o5 , Hexa-> 0x5\n",
      "Decimal-> 33 , Binary-> 0b100001 , Octal-> 0o41 , Hexa-> 0x21\n"
     ]
    }
   ],
   "source": [
    "#Making tuple of decimal,binary,octal and hexa for the given decimal number using zip.\n",
    "decimal=[81,65,72,5,33]\n",
    "binary=[bin(i) for i in decimal]\n",
    "octal=[oct(i) for i in decimal]\n",
    "hexa=[hex(i) for i in decimal]\n",
    "number=zip(decimal,binary,octal,hexa)\n",
    "for i in number:\n",
    "    print(\"Decimal->\",i[0],\", Binary->\",i[1],\", Octal->\",i[2],\", Hexa->\",i[3])"
   ]
  },
  {
   "cell_type": "raw",
   "metadata": {},
   "source": [
    "#Enumerate"
   ]
  },
  {
   "cell_type": "code",
   "execution_count": 19,
   "metadata": {},
   "outputs": [
    {
     "name": "stdout",
     "output_type": "stream",
     "text": [
      "[(0, 1), (1, 2), (2, 3), (3, 4), (4, 5), (5, 6), (6, 7), (7, 8), (8, 9), (9, 10)]\n",
      "[(0, 1), (1, 2), (2, 3), (3, 4), (4, 5), (5, 6), (6, 7), (7, 8), (8, 9), (9, 10)]\n"
     ]
    }
   ],
   "source": [
    "l=[1,2,3,4,5,6,7,8,9,10]\n",
    "\n",
    "#Designed enumerate using zip function.\n",
    "def enum(l, start):\n",
    "    return list(zip(range(start, len(l) + start), l))\n",
    "print(enum(l,0))\n",
    "\n",
    "#Using directly enumerate function\n",
    "print(list(enumerate(l,0)))\n"
   ]
  },
  {
   "cell_type": "raw",
   "metadata": {},
   "source": [
    "#Enumerate with zip function"
   ]
  },
  {
   "cell_type": "code",
   "execution_count": 36,
   "metadata": {},
   "outputs": [
    {
     "name": "stdout",
     "output_type": "stream",
     "text": [
      "0 -> Arjun   Mohnot\n",
      "1 -> Batch   2021\n",
      "2 -> Id   E17CSE102\n"
     ]
    }
   ],
   "source": [
    "prefix = ['Arjun', 'Batch', 'Id']\n",
    "suffix = ['Mohnot', '2021', 'E17CSE102']\n",
    "\n",
    "for x,(y,z) in enumerate(zip(prefix,suffix)):\n",
    "    print(x,\"->\",y,\" \",z)"
   ]
  },
  {
   "cell_type": "code",
   "execution_count": null,
   "metadata": {},
   "outputs": [],
   "source": []
  }
 ],
 "metadata": {
  "kernelspec": {
   "display_name": "Python 3",
   "language": "python",
   "name": "python3"
  },
  "language_info": {
   "codemirror_mode": {
    "name": "ipython",
    "version": 3
   },
   "file_extension": ".py",
   "mimetype": "text/x-python",
   "name": "python",
   "nbconvert_exporter": "python",
   "pygments_lexer": "ipython3",
   "version": "3.6.6"
  }
 },
 "nbformat": 4,
 "nbformat_minor": 2
}
