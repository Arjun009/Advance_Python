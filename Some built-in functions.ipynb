{
 "cells": [
  {
   "cell_type": "markdown",
   "metadata": {},
   "source": [
    "## Python has some very useful built-in functions, lets have a look at them\n",
    "\n",
    "#### lambda \n",
    "#### lambda functions are anonymous functions which are usually made for one-time use only\n",
    "\n",
    "##### Multiple arguments but only one expression.\n",
    "##### Returns the value of the expression.\n",
    "##### Arguments are optional but expression is a must.\n",
    "\n",
    "#### Syntax\n",
    "#### lambda {arguments}: expression"
   ]
  },
  {
   "cell_type": "code",
   "execution_count": 1,
   "metadata": {},
   "outputs": [
    {
     "data": {
      "text/plain": [
       "[5, 15, 6, 1, 8, 3, 4, 9]"
      ]
     },
     "execution_count": 1,
     "metadata": {},
     "output_type": "execute_result"
    }
   ],
   "source": [
    "def specific_order(x):\n",
    "    return x%5\n",
    "\n",
    "num = [4, 5, 6, 1, 8, 3, 9, 15]\n",
    "num.sort(key = lambda x: x%5)\n",
    "# num.sort(key = secific_order)\n",
    "\n",
    "num"
   ]
  },
  {
   "cell_type": "markdown",
   "metadata": {},
   "source": [
    "#### Using lambda functions is logical only when they are used once and/or are not too complex."
   ]
  },
  {
   "cell_type": "markdown",
   "metadata": {},
   "source": [
    "#### map()\n",
    "##### map() is used to apply a given function to each element of a given iterable(s)(list, set, tuple), returning a map object, which can be converted to a list, set or tuple.\n",
    "\n",
    "#### Syntax\n",
    "##### map(function, iterable)"
   ]
  },
  {
   "cell_type": "code",
   "execution_count": 2,
   "metadata": {},
   "outputs": [
    {
     "name": "stdout",
     "output_type": "stream",
     "text": [
      "[4, 7, 6]\n"
     ]
    }
   ],
   "source": [
    "words = ['test', 'testing', 'python']\n",
    "print(list(map(len, words)))"
   ]
  },
  {
   "cell_type": "code",
   "execution_count": 3,
   "metadata": {},
   "outputs": [
    {
     "name": "stdout",
     "output_type": "stream",
     "text": [
      "['Hello World', 'I am', 'Python 3.6']\n"
     ]
    }
   ],
   "source": [
    "# concatenating words\n",
    "words_1 = ['Hello', 'I', 'Python']\n",
    "words_2 = ['World', 'am', '3.6']\n",
    "\n",
    "print(list(map( lambda x, y: x + ' ' + y, words_1, words_2 )))"
   ]
  },
  {
   "cell_type": "markdown",
   "metadata": {},
   "source": [
    "#### filter()\n",
    "##### filter() is used to filter elements from a given iterable based on the given function.\n",
    "#### Syntax\n",
    "##### filter(function, iterable)"
   ]
  },
  {
   "cell_type": "code",
   "execution_count": 4,
   "metadata": {},
   "outputs": [
    {
     "data": {
      "text/plain": [
       "[1, 4, 9, 16, 25, 36, 49, 64, 81]"
      ]
     },
     "execution_count": 4,
     "metadata": {},
     "output_type": "execute_result"
    }
   ],
   "source": [
    "import math\n",
    "\n",
    "numbers = range(1, 100)\n",
    "\n",
    "\n",
    "def is_perfect_square(x):\n",
    "    y = x**0.5\n",
    "    return math.floor(y) == y\n",
    "\n",
    "\n",
    "perf_squares = list(filter(is_perfect_square, numbers))\n",
    "perf_squares"
   ]
  },
  {
   "cell_type": "code",
   "execution_count": 5,
   "metadata": {},
   "outputs": [
    {
     "data": {
      "text/plain": [
       "[2, 4, 6, 8, 10, 12, 14, 16, 18, 20, 22, 24, 26, 28, 30, 32, 34, 36, 38, 40]"
      ]
     },
     "execution_count": 5,
     "metadata": {},
     "output_type": "execute_result"
    }
   ],
   "source": [
    "# Using lambda functions\n",
    "even_numbers = list(filter(lambda x: x % 2 == 0, numbers[:40]))\n",
    "even_numbers"
   ]
  },
  {
   "cell_type": "markdown",
   "metadata": {},
   "source": [
    "#### reduce()\n",
    "##### reduce() function is used to reduce the elements of the given iterable to a single value depending on the given function.\n",
    "   ##### 1.  First and second element of the iterable are passed to the function\n",
    "   ##### 2. The above result and the third element are pssed to the function\n",
    "   ##### 3. This process goes on until all the elements of the iterable are exhausted\n",
    "#### Syntax\n",
    "##### reduce(function, iterable)"
   ]
  },
  {
   "cell_type": "code",
   "execution_count": 6,
   "metadata": {},
   "outputs": [
    {
     "data": {
      "text/plain": [
       "45"
      ]
     },
     "execution_count": 6,
     "metadata": {},
     "output_type": "execute_result"
    }
   ],
   "source": [
    "# reduce() has been moved to functools module\n",
    "from functools import reduce\n",
    "numbers = range(10)\n",
    "total = reduce(lambda x, y:x + y, numbers)\n",
    "total"
   ]
  },
  {
   "cell_type": "markdown",
   "metadata": {},
   "source": [
    "#### partial()\n",
    "#####  partial() “freezes” some portion of a function’s arguments and/or keywords resulting in a new function with a simplified signature.\n",
    "\n",
    "#### Syntax\n",
    "##### partial(function, arguments)\n"
   ]
  },
  {
   "cell_type": "code",
   "execution_count": 10,
   "metadata": {},
   "outputs": [
    {
     "name": "stdout",
     "output_type": "stream",
     "text": [
      "9876\n"
     ]
    }
   ],
   "source": [
    "from functools import partial\n",
    "\n",
    "\n",
    "def number_rep(th, hun, ten, ones):\n",
    "    return 1000 * th + 100 * hun + 10 * ten + ones\n",
    "\n",
    "\n",
    "print(number_rep(9, 8, 7, 6))"
   ]
  },
  {
   "cell_type": "code",
   "execution_count": 11,
   "metadata": {},
   "outputs": [
    {
     "data": {
      "text/plain": [
       "1235"
      ]
     },
     "execution_count": 11,
     "metadata": {},
     "output_type": "execute_result"
    }
   ],
   "source": [
    "# order matters here\n",
    "only_ones = partial(number_rep, 1,2,3)\n",
    "only_ones(5)"
   ]
  },
  {
   "cell_type": "code",
   "execution_count": null,
   "metadata": {},
   "outputs": [],
   "source": [
    "# order doesn't matter here\n",
    "three_th = partial(number_rep, th=3)\n",
    "three_th(ones=2,ten=3,hun=4)"
   ]
  },
  {
   "cell_type": "markdown",
   "metadata": {},
   "source": [
    "#### Write your own implementation of partial() using \\*args and \\*\\*kwargs"
   ]
  },
  {
   "cell_type": "markdown",
   "metadata": {},
   "source": [
    "#### zip()\n",
    "##### zip() takes iterables/iterators and combines their elements of same index into a tuple and returning all the tuples in the form of an iterator.\n",
    "#### Syntax\n",
    "##### zip(*iterables/iterator)"
   ]
  },
  {
   "cell_type": "code",
   "execution_count": 19,
   "metadata": {},
   "outputs": [
    {
     "name": "stdout",
     "output_type": "stream",
     "text": [
      "('Hello', 1)\n",
      "('world', 2)\n",
      "('I', 3)\n",
      "('am', 4)\n",
      "('Python', 5)\n"
     ]
    }
   ],
   "source": [
    "words = iter(['Hello', 'world', 'I', 'am', 'Python'])\n",
    "numbers = [1, 2, 3, 4, 5]\n",
    "\n",
    "zipped = zip(words, numbers)\n",
    "for i in zipped:\n",
    "    print(i)\n",
    "    \n",
    "for i in zipped:\n",
    "    print(i)\n",
    "    \n",
    "# next(zipped)"
   ]
  },
  {
   "cell_type": "markdown",
   "metadata": {},
   "source": [
    "##### The length of the zip iterator will be equal to the length of the smallest iterator"
   ]
  },
  {
   "cell_type": "code",
   "execution_count": null,
   "metadata": {},
   "outputs": [],
   "source": [
    "numbers = [1, 2, 3, 4, 5, 6]\n",
    "zipped = zip(words, numbers)\n",
    "\n",
    "for i in zipped:\n",
    "    print(i)"
   ]
  },
  {
   "cell_type": "markdown",
   "metadata": {},
   "source": [
    "#### Write your own implementation of zip()"
   ]
  },
  {
   "cell_type": "markdown",
   "metadata": {},
   "source": [
    "#### enumerate()\n",
    "##### enumerate() takes an iterable and returns another iterable having tuples of a counter and the elements of the given iterable, just like the indexes in a list.\n",
    "#### Syntax\n",
    "##### enumerate(iterable, start)"
   ]
  },
  {
   "cell_type": "code",
   "execution_count": 20,
   "metadata": {},
   "outputs": [
    {
     "name": "stdout",
     "output_type": "stream",
     "text": [
      "Hello at 0 index\n",
      "world at 1 index\n",
      "I at 2 index\n",
      "am at 3 index\n",
      "Python at 4 index\n"
     ]
    }
   ],
   "source": [
    "words = ['Hello', 'world', 'I', 'am', 'Python']\n",
    "\n",
    "for i, word in enumerate(words):\n",
    "    print(\"{} at {} index\".format(word, i))\n",
    "    "
   ]
  },
  {
   "cell_type": "code",
   "execution_count": null,
   "metadata": {},
   "outputs": [],
   "source": [
    "# Using the start parameter\n",
    "for i, word in enumerate(words, 1):\n",
    "    print(\"{} at {} position\".format(word, i))"
   ]
  },
  {
   "cell_type": "code",
   "execution_count": null,
   "metadata": {
    "scrolled": true
   },
   "outputs": [],
   "source": [
    "enum = enumerate(words)\n",
    "print(type(enum))\n",
    "print(list(enum))\n",
    "print(list(enum))\n"
   ]
  },
  {
   "cell_type": "markdown",
   "metadata": {},
   "source": [
    "#### Write your own implementation of enumerate() using zip()"
   ]
  },
  {
   "cell_type": "markdown",
   "metadata": {},
   "source": [
    "#### iter()\n",
    "##### iter() is used to convert an iterable to an iterator\n",
    "\n",
    "#### Syntax\n",
    "##### iter(iterable, sentinel)"
   ]
  },
  {
   "cell_type": "code",
   "execution_count": null,
   "metadata": {
    "scrolled": false
   },
   "outputs": [],
   "source": [
    "numbers = [1, 5, 8, 9, 7]\n",
    "for i in numbers:\n",
    "    print(i)"
   ]
  },
  {
   "cell_type": "code",
   "execution_count": null,
   "metadata": {},
   "outputs": [],
   "source": [
    "# Iterators get exhausted after they are used once\n",
    "numbers_it = iter(numbers)\n",
    "for i in numbers_it:\n",
    "    print(i)\n",
    "    \n",
    "next(numbers_it)"
   ]
  },
  {
   "cell_type": "markdown",
   "metadata": {},
   "source": [
    "#### iter() raises a StopIteration exception when the iterator is exhausted"
   ]
  },
  {
   "cell_type": "code",
   "execution_count": null,
   "metadata": {},
   "outputs": [],
   "source": [
    "for i in numbers_it:\n",
    "    print(i)"
   ]
  },
  {
   "cell_type": "markdown",
   "metadata": {},
   "source": [
    "#### Python implements for loop internally using iter() method.\n",
    "##### Try implementing your own  for-loop\n",
    "##### Learn about __next__() and __iter__()"
   ]
  },
  {
   "cell_type": "code",
   "execution_count": null,
   "metadata": {},
   "outputs": [],
   "source": [
    "numbers = [1, 2, 3,4, 5, 6]\n",
    "\n",
    "numbers_it = iter(numbers)\n",
    "\n",
    "while True:\n",
    "    try:\n",
    "        print(next(numbers_it))\n",
    "    except StopIteration:\n",
    "        break"
   ]
  },
  {
   "cell_type": "markdown",
   "metadata": {},
   "source": [
    "### iter() takes another argument called sentinel which tells it when to stop iterating on the callable\n"
   ]
  },
  {
   "cell_type": "code",
   "execution_count": null,
   "metadata": {},
   "outputs": [],
   "source": [
    "import random\n",
    "\n",
    "numbers_iter = partial(random.randint, 1, 6)\n",
    "itr = iter(numbers_iter, 5)\n",
    "\n",
    "for i in itr:\n",
    "    print(i)"
   ]
  },
  {
   "cell_type": "markdown",
   "metadata": {},
   "source": [
    "## Itertools\n",
    "##### Itertools is a module provided in Python that consists of efficient functions that are useful by themselves or in combination with other function.\n",
    "\n",
    "#### repeat(value, n)"
   ]
  },
  {
   "cell_type": "code",
   "execution_count": 14,
   "metadata": {},
   "outputs": [
    {
     "data": {
      "text/plain": [
       "[10, 10, 10]"
      ]
     },
     "execution_count": 14,
     "metadata": {},
     "output_type": "execute_result"
    }
   ],
   "source": [
    "from itertools import *\n",
    "rep = list(repeat(10, 3))\n",
    "rep"
   ]
  },
  {
   "cell_type": "markdown",
   "metadata": {},
   "source": [
    "###### repeat(10) will return 10 indefinitely. Not recommended to run on Jupyter Notebook"
   ]
  },
  {
   "cell_type": "markdown",
   "metadata": {},
   "source": [
    "#### accumulate(iterable, func = operator.add)"
   ]
  },
  {
   "cell_type": "code",
   "execution_count": 15,
   "metadata": {},
   "outputs": [
    {
     "data": {
      "text/plain": [
       "[0, 1, 3, 6, 10, 15, 21, 28, 36, 45, 55]"
      ]
     },
     "execution_count": 15,
     "metadata": {},
     "output_type": "execute_result"
    }
   ],
   "source": [
    "# Default function is addition\n",
    "numbers = range(11)\n",
    "list(accumulate(numbers))\n",
    "# Same as reduce but instead of returning the final value, it returns the values at each step "
   ]
  },
  {
   "cell_type": "code",
   "execution_count": null,
   "metadata": {},
   "outputs": [],
   "source": [
    "character = ['a', 'b', 'c', 'd', 'e']\n",
    "list(accumulate(character))"
   ]
  },
  {
   "cell_type": "code",
   "execution_count": null,
   "metadata": {
    "scrolled": true
   },
   "outputs": [],
   "source": [
    "numbers_random = [8, 4, 2, 3, 10, 1, 2, 9]\n",
    "list(accumulate(numbers_random, max))"
   ]
  },
  {
   "cell_type": "markdown",
   "metadata": {},
   "source": [
    "#### Write your implementation of accumulate()"
   ]
  },
  {
   "cell_type": "markdown",
   "metadata": {},
   "source": [
    "#### tee(iterable/iterator ,n=2)\n",
    "##### Iterators are exhausted after using them once, tee() makes copies of iterator for multiple uses."
   ]
  },
  {
   "cell_type": "code",
   "execution_count": null,
   "metadata": {},
   "outputs": [],
   "source": [
    "# By default, tee() returns 2 copies\n",
    "numbers = range(4)\n",
    "numbers_it = iter(numbers)\n",
    "itr_1, itr_2, itr_3 = tee(numbers_it, 3)\n",
    "\n",
    "for i in itr_1:\n",
    "    print(i)\n",
    "    \n",
    "for i in itr_2:\n",
    "    print(i)\n",
    "    \n",
    "# next(itr_2)\n",
    "\n",
    "next(itr_3)"
   ]
  },
  {
   "cell_type": "markdown",
   "metadata": {},
   "source": [
    "#### permutations(iterable, r)\n",
    "##### It returns the permutations of the given iterable of length r, if r is not given then r is taken as equal to n."
   ]
  },
  {
   "cell_type": "code",
   "execution_count": null,
   "metadata": {},
   "outputs": [],
   "source": [
    "for perms in permutations('ABCD', 2):\n",
    "    print(\"\".join(perms))"
   ]
  },
  {
   "cell_type": "code",
   "execution_count": null,
   "metadata": {},
   "outputs": [],
   "source": [
    "for perms in permutations('ABCD'):\n",
    "    print(\"\".join(perms))"
   ]
  },
  {
   "cell_type": "markdown",
   "metadata": {},
   "source": [
    "#### combinations(iterable, r)\n",
    "##### It returns the combinations of length r of the given iterable."
   ]
  },
  {
   "cell_type": "code",
   "execution_count": null,
   "metadata": {},
   "outputs": [],
   "source": [
    "for combs in combinations(\"ABCD\", 2):\n",
    "    print(\"\".join(combs))"
   ]
  },
  {
   "cell_type": "code",
   "execution_count": null,
   "metadata": {},
   "outputs": [],
   "source": [
    "for combs in combinations(\"ABCD\", 3):\n",
    "    print(\"\".join(combs))"
   ]
  },
  {
   "cell_type": "markdown",
   "metadata": {},
   "source": [
    "#### combinations_with_replacements(iterable, r)\n",
    "##### It returns the combinations with replacement of length r of the given iterable."
   ]
  },
  {
   "cell_type": "code",
   "execution_count": null,
   "metadata": {},
   "outputs": [],
   "source": [
    "for comb_wr in combinations_with_replacement(\"ABCD\" ,2):\n",
    "    print(\"\".join(comb_wr))"
   ]
  },
  {
   "cell_type": "markdown",
   "metadata": {},
   "source": [
    "#### product(*iterable, repeat=1)\n",
    "##### It returns the cartesian product of the given iterables. "
   ]
  },
  {
   "cell_type": "code",
   "execution_count": null,
   "metadata": {},
   "outputs": [],
   "source": [
    "for prod in product(\"ABCD\" ,repeat=2):\n",
    "    print(\"\".join(prod))"
   ]
  },
  {
   "cell_type": "code",
   "execution_count": 8,
   "metadata": {},
   "outputs": [
    {
     "ename": "NameError",
     "evalue": "name 'product' is not defined",
     "output_type": "error",
     "traceback": [
      "\u001b[1;31m---------------------------------------------------------------------------\u001b[0m",
      "\u001b[1;31mNameError\u001b[0m                                 Traceback (most recent call last)",
      "\u001b[1;32m<ipython-input-8-4b30ecb32675>\u001b[0m in \u001b[0;36m<module>\u001b[1;34m\u001b[0m\n\u001b[1;32m----> 1\u001b[1;33m \u001b[1;32mfor\u001b[0m \u001b[0mprod\u001b[0m \u001b[1;32min\u001b[0m \u001b[0mproduct\u001b[0m\u001b[1;33m(\u001b[0m\u001b[1;34m\"ABCD\"\u001b[0m\u001b[1;33m,\u001b[0m \u001b[1;34m\"EF\"\u001b[0m\u001b[1;33m,\u001b[0m \u001b[1;34m\"G\"\u001b[0m\u001b[1;33m)\u001b[0m\u001b[1;33m:\u001b[0m\u001b[1;33m\u001b[0m\u001b[1;33m\u001b[0m\u001b[0m\n\u001b[0m\u001b[0;32m      2\u001b[0m     \u001b[0mprint\u001b[0m\u001b[1;33m(\u001b[0m\u001b[1;34m\"\"\u001b[0m\u001b[1;33m.\u001b[0m\u001b[0mjoin\u001b[0m\u001b[1;33m(\u001b[0m\u001b[0mprod\u001b[0m\u001b[1;33m)\u001b[0m\u001b[1;33m)\u001b[0m\u001b[1;33m\u001b[0m\u001b[1;33m\u001b[0m\u001b[0m\n",
      "\u001b[1;31mNameError\u001b[0m: name 'product' is not defined"
     ]
    }
   ],
   "source": [
    "for prod in product(\"ABCD\", \"EF\", \"G\"):\n",
    "    print(\"\".join(prod))"
   ]
  },
  {
   "cell_type": "markdown",
   "metadata": {},
   "source": [
    "#### zip_longest(*iterables, fillvalue=None)\n",
    "##### zip_longest() works just like zip() but the length of the returned iterator is equal to the longest iterator, if an iterator is exhausted, it is replaced by a fillvalue."
   ]
  },
  {
   "cell_type": "code",
   "execution_count": 24,
   "metadata": {},
   "outputs": [
    {
     "name": "stdout",
     "output_type": "stream",
     "text": [
      "[('Hello', 0), ('world', 1), ('I', 2), ('am', 3), ('Python', 4), (None, 5), (None, 6), (None, 7)]\n"
     ]
    }
   ],
   "source": [
    "zipped = zip_longest(words, range(8))\n",
    "print(list(zipped))"
   ]
  }
 ],
 "metadata": {
  "kernelspec": {
   "display_name": "Python 3",
   "language": "python",
   "name": "python3"
  },
  "language_info": {
   "codemirror_mode": {
    "name": "ipython",
    "version": 3
   },
   "file_extension": ".py",
   "mimetype": "text/x-python",
   "name": "python",
   "nbconvert_exporter": "python",
   "pygments_lexer": "ipython3",
   "version": "3.7.1"
  }
 },
 "nbformat": 4,
 "nbformat_minor": 2
}
